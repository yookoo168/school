{
  "nbformat": 4,
  "nbformat_minor": 0,
  "metadata": {
    "colab": {
      "name": "2-8guess_number.ipynb",
      "provenance": []
    },
    "kernelspec": {
      "name": "python3",
      "display_name": "Python 3"
    },
    "language_info": {
      "name": "python"
    }
  },
  "cells": [
    {
      "cell_type": "code",
      "metadata": {
        "id": "9QNLFWAxrqao",
        "colab": {
          "base_uri": "https://localhost:8080/"
        },
        "outputId": "5efc0aef-164a-44aa-c7d6-c5461fa93cb7"
      },
      "source": [
        "#2-8 猜數字的遊戲\n",
        "from random import randint\n",
        "answer=''\n",
        "count_a=0\n",
        "count_b=0\n",
        "times=1\n",
        "\n",
        "numbers=[0,1,2,3,4,5,6,7,8,9]\n",
        "random_answer= [] \n",
        "\n",
        "for i in range(4):\n",
        "\tj=randint(0,9-i)\n",
        "\trandom_answer.append(numbers[j])\n",
        "\tnumbers.remove(numbers[j])\n",
        "\ti=i+1\n",
        "\t\n",
        "for  i in range(4):\n",
        "\tanswer=answer+str(random_answer[i])\n",
        "\n",
        "input_number=input('請輸入你的四個數：')\n",
        "while times <8 and input_number != answer:\n",
        "\tfor i in range(4):\n",
        "\t\tfor j in range(4):\n",
        "\t\t\tif  i==j and input_number[i]==answer[j]:\n",
        "\t\t\t\tcount_a=count_a+1\n",
        "\t\t\telif input_number[i]==answer[j]:\n",
        "\t\t\t\tcount_b=count_b+1\n",
        "\tprint(str(count_a)+'A'+str(count_b)+'B')\n",
        "\tcount_a=0\n",
        "\tcount_b=0\n",
        "\ttimes=times+1\n",
        "\tinput_number=input('請輸入您猜的4個數：')\n",
        "if input_number==answer:\n",
        "\tprint('您答對了，正確答案是'+answer)\n",
        "else:\n",
        "\tprint('作答已達8次，遊戲結束，正確答案是'+answer)\n",
        "\t"
      ],
      "execution_count": 1,
      "outputs": [
        {
          "output_type": "stream",
          "name": "stdout",
          "text": [
            "請輸入你的四個數：12345\n",
            "0A2B\n",
            "請輸入您猜的4個數：5678\n",
            "0A1B\n",
            "請輸入您猜的4個數：9012\n",
            "0A2B\n",
            "請輸入您猜的4個數：9045\n",
            "1A1B\n",
            "請輸入您猜的4個數：1065\n",
            "1A2B\n",
            "請輸入您猜的4個數：4305\n",
            "2A1B\n",
            "請輸入您猜的4個數：3105\n",
            "您答對了，正確答案是3105\n"
          ]
        }
      ]
    }
  ]
}